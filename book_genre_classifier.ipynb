{
 "cells": [
  {
   "cell_type": "code",
   "execution_count": 1,
   "metadata": {},
   "outputs": [
    {
     "name": "stderr",
     "output_type": "stream",
     "text": [
      "/Users/parthtank/anaconda3/envs/face/lib/python3.7/site-packages/tensorflow/python/framework/dtypes.py:526: FutureWarning: Passing (type, 1) or '1type' as a synonym of type is deprecated; in a future version of numpy, it will be understood as (type, (1,)) / '(1,)type'.\n",
      "  _np_qint8 = np.dtype([(\"qint8\", np.int8, 1)])\n",
      "/Users/parthtank/anaconda3/envs/face/lib/python3.7/site-packages/tensorflow/python/framework/dtypes.py:527: FutureWarning: Passing (type, 1) or '1type' as a synonym of type is deprecated; in a future version of numpy, it will be understood as (type, (1,)) / '(1,)type'.\n",
      "  _np_quint8 = np.dtype([(\"quint8\", np.uint8, 1)])\n",
      "/Users/parthtank/anaconda3/envs/face/lib/python3.7/site-packages/tensorflow/python/framework/dtypes.py:528: FutureWarning: Passing (type, 1) or '1type' as a synonym of type is deprecated; in a future version of numpy, it will be understood as (type, (1,)) / '(1,)type'.\n",
      "  _np_qint16 = np.dtype([(\"qint16\", np.int16, 1)])\n",
      "/Users/parthtank/anaconda3/envs/face/lib/python3.7/site-packages/tensorflow/python/framework/dtypes.py:529: FutureWarning: Passing (type, 1) or '1type' as a synonym of type is deprecated; in a future version of numpy, it will be understood as (type, (1,)) / '(1,)type'.\n",
      "  _np_quint16 = np.dtype([(\"quint16\", np.uint16, 1)])\n",
      "/Users/parthtank/anaconda3/envs/face/lib/python3.7/site-packages/tensorflow/python/framework/dtypes.py:530: FutureWarning: Passing (type, 1) or '1type' as a synonym of type is deprecated; in a future version of numpy, it will be understood as (type, (1,)) / '(1,)type'.\n",
      "  _np_qint32 = np.dtype([(\"qint32\", np.int32, 1)])\n",
      "/Users/parthtank/anaconda3/envs/face/lib/python3.7/site-packages/tensorflow/python/framework/dtypes.py:535: FutureWarning: Passing (type, 1) or '1type' as a synonym of type is deprecated; in a future version of numpy, it will be understood as (type, (1,)) / '(1,)type'.\n",
      "  np_resource = np.dtype([(\"resource\", np.ubyte, 1)])\n"
     ]
    }
   ],
   "source": [
    "import pandas as pd\n",
    "import numpy as np\n",
    "import tensorflow as tf\n",
    "import re"
   ]
  },
  {
   "cell_type": "code",
   "execution_count": 2,
   "metadata": {},
   "outputs": [],
   "source": [
    "data = pd.read_csv('goodreads_list_props.csv',encoding = \"ISO-8859-1\")"
   ]
  },
  {
   "cell_type": "code",
   "execution_count": 3,
   "metadata": {},
   "outputs": [
    {
     "name": "stdout",
     "output_type": "stream",
     "text": [
      "book_name       object\n",
      "author          object\n",
      "rating         float64\n",
      "description     object\n",
      "no_of_pages    float64\n",
      "genre           object\n",
      "dtype: object\n",
      "47610\n"
     ]
    }
   ],
   "source": [
    "result = data.dtypes\n",
    "print(result)\n",
    "print(len(data.index))"
   ]
  },
  {
   "cell_type": "code",
   "execution_count": 4,
   "metadata": {},
   "outputs": [
    {
     "name": "stdout",
     "output_type": "stream",
     "text": [
      "Don Quixote has become so entranced by reading chivalric romances, that he determines to become a knight-errant himself. In the company of his faithful squire, Sancho Panza, his exploits blossom in all sorts of wonderful ways. While Quixote's fancy often leads him astray â he tilts at windmills, imagining them to be giants â Sancho acquires cunning and a certain sagacity. Sane madman and wise fool, they roam the world together, and together they have haunted readers' imaginations for nearly four hundred years.<br/><br/>With its experimental form and literary playfulness, <i>Don Quixote</i> generally has been recognized as the first modern novel. The book has had enormous influence on a host of writers, from Fielding and Sterne to Flaubert, Dickens, Melville, and Faulkner, who reread it once a year, \"just as some people read the Bible.\"\n",
      "<class 'str'>\n"
     ]
    }
   ],
   "source": [
    "data_no_tag=[]\n",
    "data_values= data['description'].values\n",
    "print(data_values[7])\n",
    "print(type(data_values[8]))\n"
   ]
  },
  {
   "cell_type": "code",
   "execution_count": 5,
   "metadata": {},
   "outputs": [
    {
     "name": "stderr",
     "output_type": "stream",
     "text": [
      "/Users/parthtank/anaconda3/envs/face/lib/python3.7/site-packages/ipykernel_launcher.py:8: SettingWithCopyWarning: \n",
      "A value is trying to be set on a copy of a slice from a DataFrame\n",
      "\n",
      "See the caveats in the documentation: https://pandas.pydata.org/pandas-docs/stable/user_guide/indexing.html#returning-a-view-versus-a-copy\n",
      "  \n"
     ]
    }
   ],
   "source": [
    "import re\n",
    "data_no_tag=[]\n",
    "for i in data_values:\n",
    "    x = re.sub(\"<[^<]+?>\",\" \", str(i))\n",
    "    data_no_tag.append(x)\n",
    "\n",
    "for i in range(0,47610):\n",
    "    data['description'][i] = data_no_tag[i]"
   ]
  },
  {
   "cell_type": "code",
   "execution_count": 6,
   "metadata": {},
   "outputs": [
    {
     "data": {
      "text/html": [
       "<div>\n",
       "<style scoped>\n",
       "    .dataframe tbody tr th:only-of-type {\n",
       "        vertical-align: middle;\n",
       "    }\n",
       "\n",
       "    .dataframe tbody tr th {\n",
       "        vertical-align: top;\n",
       "    }\n",
       "\n",
       "    .dataframe thead th {\n",
       "        text-align: right;\n",
       "    }\n",
       "</style>\n",
       "<table border=\"1\" class=\"dataframe\">\n",
       "  <thead>\n",
       "    <tr style=\"text-align: right;\">\n",
       "      <th></th>\n",
       "      <th>book_name</th>\n",
       "      <th>author</th>\n",
       "      <th>rating</th>\n",
       "      <th>description</th>\n",
       "      <th>no_of_pages</th>\n",
       "      <th>genre</th>\n",
       "    </tr>\n",
       "  </thead>\n",
       "  <tbody>\n",
       "    <tr>\n",
       "      <th>0</th>\n",
       "      <td>The Kite Runner</td>\n",
       "      <td>Khaled Hosseini</td>\n",
       "      <td>4.25</td>\n",
       "      <td>âIt may be unfair, but what happens in a f...</td>\n",
       "      <td>391.0</td>\n",
       "      <td>Fiction</td>\n",
       "    </tr>\n",
       "    <tr>\n",
       "      <th>1</th>\n",
       "      <td>The Old Man and the Sea</td>\n",
       "      <td>Ernest Hemingway</td>\n",
       "      <td>3.72</td>\n",
       "      <td>It is the story of an old Cuban fisherman and ...</td>\n",
       "      <td>132.0</td>\n",
       "      <td>Classics</td>\n",
       "    </tr>\n",
       "    <tr>\n",
       "      <th>2</th>\n",
       "      <td>The Great Gatsby</td>\n",
       "      <td>F. Scott Fitzgerald</td>\n",
       "      <td>3.88</td>\n",
       "      <td>THE GREAT GATSBY , F. Scott Fitzgeraldâs th...</td>\n",
       "      <td>180.0</td>\n",
       "      <td>Classics</td>\n",
       "    </tr>\n",
       "    <tr>\n",
       "      <th>3</th>\n",
       "      <td>City of Bones</td>\n",
       "      <td>Cassandra Clare</td>\n",
       "      <td>4.12</td>\n",
       "      <td>When fifteen-year-old Clary Fray heads out to ...</td>\n",
       "      <td>485.0</td>\n",
       "      <td>Young Adult</td>\n",
       "    </tr>\n",
       "    <tr>\n",
       "      <th>4</th>\n",
       "      <td>The Pillars of the Earth</td>\n",
       "      <td>Ken Follett</td>\n",
       "      <td>4.29</td>\n",
       "      <td>For the Movie tie-in edition with the same AS...</td>\n",
       "      <td>973.0</td>\n",
       "      <td>Historical Fiction</td>\n",
       "    </tr>\n",
       "  </tbody>\n",
       "</table>\n",
       "</div>"
      ],
      "text/plain": [
       "                  book_name               author  rating  \\\n",
       "0           The Kite Runner      Khaled Hosseini    4.25   \n",
       "1   The Old Man and the Sea     Ernest Hemingway    3.72   \n",
       "2          The Great Gatsby  F. Scott Fitzgerald    3.88   \n",
       "3             City of Bones      Cassandra Clare    4.12   \n",
       "4  The Pillars of the Earth          Ken Follett    4.29   \n",
       "\n",
       "                                         description  no_of_pages  \\\n",
       "0    âIt may be unfair, but what happens in a f...        391.0   \n",
       "1  It is the story of an old Cuban fisherman and ...        132.0   \n",
       "2   THE GREAT GATSBY , F. Scott Fitzgeraldâs th...        180.0   \n",
       "3  When fifteen-year-old Clary Fray heads out to ...        485.0   \n",
       "4   For the Movie tie-in edition with the same AS...        973.0   \n",
       "\n",
       "                genre  \n",
       "0             Fiction  \n",
       "1            Classics  \n",
       "2            Classics  \n",
       "3         Young Adult  \n",
       "4  Historical Fiction  "
      ]
     },
     "execution_count": 6,
     "metadata": {},
     "output_type": "execute_result"
    }
   ],
   "source": [
    "data.head()"
   ]
  },
  {
   "cell_type": "code",
   "execution_count": 10,
   "metadata": {},
   "outputs": [],
   "source": [
    "data = data.dropna(axis=0, how='any').reset_index(drop=True)"
   ]
  },
  {
   "cell_type": "code",
   "execution_count": 11,
   "metadata": {},
   "outputs": [
    {
     "data": {
      "text/html": [
       "<div>\n",
       "<style scoped>\n",
       "    .dataframe tbody tr th:only-of-type {\n",
       "        vertical-align: middle;\n",
       "    }\n",
       "\n",
       "    .dataframe tbody tr th {\n",
       "        vertical-align: top;\n",
       "    }\n",
       "\n",
       "    .dataframe thead th {\n",
       "        text-align: right;\n",
       "    }\n",
       "</style>\n",
       "<table border=\"1\" class=\"dataframe\">\n",
       "  <thead>\n",
       "    <tr style=\"text-align: right;\">\n",
       "      <th></th>\n",
       "      <th>book_name</th>\n",
       "      <th>author</th>\n",
       "      <th>rating</th>\n",
       "      <th>description</th>\n",
       "      <th>no_of_pages</th>\n",
       "      <th>genre</th>\n",
       "    </tr>\n",
       "  </thead>\n",
       "  <tbody>\n",
       "    <tr>\n",
       "      <th>0</th>\n",
       "      <td>The Kite Runner</td>\n",
       "      <td>Khaled Hosseini</td>\n",
       "      <td>4.25</td>\n",
       "      <td>âIt may be unfair, but what happens in a f...</td>\n",
       "      <td>391.0</td>\n",
       "      <td>Fiction</td>\n",
       "    </tr>\n",
       "    <tr>\n",
       "      <th>1</th>\n",
       "      <td>The Old Man and the Sea</td>\n",
       "      <td>Ernest Hemingway</td>\n",
       "      <td>3.72</td>\n",
       "      <td>It is the story of an old Cuban fisherman and ...</td>\n",
       "      <td>132.0</td>\n",
       "      <td>Classics</td>\n",
       "    </tr>\n",
       "    <tr>\n",
       "      <th>2</th>\n",
       "      <td>The Great Gatsby</td>\n",
       "      <td>F. Scott Fitzgerald</td>\n",
       "      <td>3.88</td>\n",
       "      <td>THE GREAT GATSBY , F. Scott Fitzgeraldâs th...</td>\n",
       "      <td>180.0</td>\n",
       "      <td>Classics</td>\n",
       "    </tr>\n",
       "    <tr>\n",
       "      <th>3</th>\n",
       "      <td>City of Bones</td>\n",
       "      <td>Cassandra Clare</td>\n",
       "      <td>4.12</td>\n",
       "      <td>When fifteen-year-old Clary Fray heads out to ...</td>\n",
       "      <td>485.0</td>\n",
       "      <td>Young Adult</td>\n",
       "    </tr>\n",
       "    <tr>\n",
       "      <th>4</th>\n",
       "      <td>The Pillars of the Earth</td>\n",
       "      <td>Ken Follett</td>\n",
       "      <td>4.29</td>\n",
       "      <td>For the Movie tie-in edition with the same AS...</td>\n",
       "      <td>973.0</td>\n",
       "      <td>Historical Fiction</td>\n",
       "    </tr>\n",
       "    <tr>\n",
       "      <th>...</th>\n",
       "      <td>...</td>\n",
       "      <td>...</td>\n",
       "      <td>...</td>\n",
       "      <td>...</td>\n",
       "      <td>...</td>\n",
       "      <td>...</td>\n",
       "    </tr>\n",
       "    <tr>\n",
       "      <th>42266</th>\n",
       "      <td>The Sober Truth: Debunking the Bad Science Beh...</td>\n",
       "      <td>Lance Dodes</td>\n",
       "      <td>3.87</td>\n",
       "      <td>An exposÃ© of Alcoholics Anonymous, 12-step p...</td>\n",
       "      <td>192.0</td>\n",
       "      <td>Nonfiction</td>\n",
       "    </tr>\n",
       "    <tr>\n",
       "      <th>42267</th>\n",
       "      <td>Shadow Games</td>\n",
       "      <td>Glen Cook</td>\n",
       "      <td>4.08</td>\n",
       "      <td>After the devastating battle at the Tower of ...</td>\n",
       "      <td>311.0</td>\n",
       "      <td>Fantasy</td>\n",
       "    </tr>\n",
       "    <tr>\n",
       "      <th>42268</th>\n",
       "      <td>Livro</td>\n",
       "      <td>JosÃ© LuÃ­s Peixoto</td>\n",
       "      <td>3.92</td>\n",
       "      <td>Este livro elege como cenÃ¡rio a extraordinÃ¡r...</td>\n",
       "      <td>264.0</td>\n",
       "      <td>European Literature</td>\n",
       "    </tr>\n",
       "    <tr>\n",
       "      <th>42269</th>\n",
       "      <td>Mother, Mother</td>\n",
       "      <td>Koren Zailckas</td>\n",
       "      <td>3.68</td>\n",
       "      <td>Josephine Hurst has her family under control. ...</td>\n",
       "      <td>366.0</td>\n",
       "      <td>Fiction</td>\n",
       "    </tr>\n",
       "    <tr>\n",
       "      <th>42270</th>\n",
       "      <td>Quiet Dell</td>\n",
       "      <td>Jayne Anne Phillips</td>\n",
       "      <td>3.27</td>\n",
       "      <td>From one of Americaâs most accomplished and ...</td>\n",
       "      <td>464.0</td>\n",
       "      <td>Historical Fiction</td>\n",
       "    </tr>\n",
       "  </tbody>\n",
       "</table>\n",
       "<p>42271 rows × 6 columns</p>\n",
       "</div>"
      ],
      "text/plain": [
       "                                               book_name               author  \\\n",
       "0                                        The Kite Runner      Khaled Hosseini   \n",
       "1                                The Old Man and the Sea     Ernest Hemingway   \n",
       "2                                       The Great Gatsby  F. Scott Fitzgerald   \n",
       "3                                          City of Bones      Cassandra Clare   \n",
       "4                               The Pillars of the Earth          Ken Follett   \n",
       "...                                                  ...                  ...   \n",
       "42266  The Sober Truth: Debunking the Bad Science Beh...          Lance Dodes   \n",
       "42267                                       Shadow Games            Glen Cook   \n",
       "42268                                              Livro  JosÃ© LuÃ­s Peixoto   \n",
       "42269                                     Mother, Mother       Koren Zailckas   \n",
       "42270                                         Quiet Dell  Jayne Anne Phillips   \n",
       "\n",
       "       rating                                        description  no_of_pages  \\\n",
       "0        4.25    âIt may be unfair, but what happens in a f...        391.0   \n",
       "1        3.72  It is the story of an old Cuban fisherman and ...        132.0   \n",
       "2        3.88   THE GREAT GATSBY , F. Scott Fitzgeraldâs th...        180.0   \n",
       "3        4.12  When fifteen-year-old Clary Fray heads out to ...        485.0   \n",
       "4        4.29   For the Movie tie-in edition with the same AS...        973.0   \n",
       "...       ...                                                ...          ...   \n",
       "42266    3.87   An exposÃ© of Alcoholics Anonymous, 12-step p...        192.0   \n",
       "42267    4.08   After the devastating battle at the Tower of ...        311.0   \n",
       "42268    3.92  Este livro elege como cenÃ¡rio a extraordinÃ¡r...        264.0   \n",
       "42269    3.68  Josephine Hurst has her family under control. ...        366.0   \n",
       "42270    3.27  From one of Americaâs most accomplished and ...        464.0   \n",
       "\n",
       "                     genre  \n",
       "0                  Fiction  \n",
       "1                 Classics  \n",
       "2                 Classics  \n",
       "3              Young Adult  \n",
       "4       Historical Fiction  \n",
       "...                    ...  \n",
       "42266           Nonfiction  \n",
       "42267              Fantasy  \n",
       "42268  European Literature  \n",
       "42269              Fiction  \n",
       "42270   Historical Fiction  \n",
       "\n",
       "[42271 rows x 6 columns]"
      ]
     },
     "execution_count": 11,
     "metadata": {},
     "output_type": "execute_result"
    }
   ],
   "source": [
    "data"
   ]
  },
  {
   "cell_type": "code",
   "execution_count": 17,
   "metadata": {},
   "outputs": [],
   "source": [
    "books = pd.DataFrame(data['description'])\n",
    "genres = pd.DataFrame(data['genre'])"
   ]
  },
  {
   "cell_type": "code",
   "execution_count": 18,
   "metadata": {},
   "outputs": [
    {
     "name": "stdout",
     "output_type": "stream",
     "text": [
      "<class 'pandas.core.frame.DataFrame'>\n",
      "<class 'pandas.core.frame.DataFrame'>\n",
      "(42271, 1)\n",
      "(42271, 1)\n"
     ]
    }
   ],
   "source": [
    "\n",
    "print (type(books))\n",
    "print (type(genres))\n",
    "print (books.shape)\n",
    "print (genres.shape)"
   ]
  },
  {
   "cell_type": "code",
   "execution_count": 19,
   "metadata": {},
   "outputs": [
    {
     "name": "stdout",
     "output_type": "stream",
     "text": [
      "Total words in data set:  470838\n"
     ]
    }
   ],
   "source": [
    "from collections import Counter\n",
    "\n",
    "total_counts = Counter()\n",
    "for i in range(len(books)):\n",
    "    for word in books.values[i][0].split(\" \"):\n",
    "        total_counts[word] += 1\n",
    "\n",
    "print(\"Total words in data set: \", len(total_counts))"
   ]
  },
  {
   "cell_type": "code",
   "execution_count": 20,
   "metadata": {},
   "outputs": [
    {
     "name": "stdout",
     "output_type": "stream",
     "text": [
      "['the', '', 'and', 'of', 'a', 'to', 'in', 'is', 'her', 'that', 'his', 'with', 'for', 'as', 'she', 'The', 'on', 'he', 'has', 'an', 'from', 'by', 'it', 'was', 'who', 'this', 'are', 'their', 'be', 'I', 'one', 'at', 'But', 'but', 'will', 'have', 'de', 'they', 'into', 'all', 'when', 'not', '.', 'about', 'life', 'can', 'you', 'In', 'A', 'only', 'new', 'more', 'book', '-', 'most', 'out', 'or', 'what', 'him', 'been']\n"
     ]
    }
   ],
   "source": [
    "\n",
    "vocab = sorted(total_counts, key=total_counts.get, reverse=True)[:20000]\n",
    "print(vocab[:60])"
   ]
  },
  {
   "cell_type": "code",
   "execution_count": 21,
   "metadata": {},
   "outputs": [
    {
     "name": "stdout",
     "output_type": "stream",
     "text": [
      "Madison, :  21\n"
     ]
    }
   ],
   "source": [
    "print(vocab[-1], ': ', total_counts[vocab[-1]])"
   ]
  },
  {
   "cell_type": "code",
   "execution_count": 22,
   "metadata": {},
   "outputs": [],
   "source": [
    "vocab_size = len(vocab)\n",
    "word2idx = {}\n",
    "#print vocab_size\n",
    "for i, word in enumerate(vocab):\n",
    "    word2idx[word] = i"
   ]
  },
  {
   "cell_type": "code",
   "execution_count": 23,
   "metadata": {},
   "outputs": [],
   "source": [
    "def text_to_vector(text):\n",
    "    word_vector = np.zeros(vocab_size)\n",
    "    for word in text.split(\" \"):\n",
    "        if word2idx.get(word) is None:\n",
    "            continue\n",
    "        else:\n",
    "            word_vector[word2idx.get(word)] += 1\n",
    "    return np.array(word_vector)"
   ]
  },
  {
   "cell_type": "code",
   "execution_count": 24,
   "metadata": {},
   "outputs": [
    {
     "data": {
      "text/plain": [
       "array([0., 0., 0., 1., 1., 0., 0., 0., 0., 0.])"
      ]
     },
     "execution_count": 24,
     "metadata": {},
     "output_type": "execute_result"
    }
   ],
   "source": [
    "text_to_vector(\"I am of a Legend\")[:10]"
   ]
  },
  {
   "cell_type": "code",
   "execution_count": 25,
   "metadata": {},
   "outputs": [],
   "source": [
    "\n",
    "word_vectors = np.zeros((len(books), len(vocab)), dtype=np.int_)\n",
    "for ii, (_, text) in enumerate(books.iterrows()):\n",
    "    word_vectors[ii] = text_to_vector(text[0])"
   ]
  },
  {
   "cell_type": "code",
   "execution_count": 26,
   "metadata": {},
   "outputs": [
    {
     "data": {
      "text/plain": [
       "(42271, 20000)"
      ]
     },
     "execution_count": 26,
     "metadata": {},
     "output_type": "execute_result"
    }
   ],
   "source": [
    "word_vectors.shape"
   ]
  },
  {
   "cell_type": "code",
   "execution_count": 27,
   "metadata": {},
   "outputs": [
    {
     "data": {
      "text/html": [
       "<div>\n",
       "<style scoped>\n",
       "    .dataframe tbody tr th:only-of-type {\n",
       "        vertical-align: middle;\n",
       "    }\n",
       "\n",
       "    .dataframe tbody tr th {\n",
       "        vertical-align: top;\n",
       "    }\n",
       "\n",
       "    .dataframe thead th {\n",
       "        text-align: right;\n",
       "    }\n",
       "</style>\n",
       "<table border=\"1\" class=\"dataframe\">\n",
       "  <thead>\n",
       "    <tr style=\"text-align: right;\">\n",
       "      <th></th>\n",
       "      <th>description</th>\n",
       "    </tr>\n",
       "  </thead>\n",
       "  <tbody>\n",
       "    <tr>\n",
       "      <th>count</th>\n",
       "      <td>42271</td>\n",
       "    </tr>\n",
       "    <tr>\n",
       "      <th>unique</th>\n",
       "      <td>41632</td>\n",
       "    </tr>\n",
       "    <tr>\n",
       "      <th>top</th>\n",
       "      <td>nan</td>\n",
       "    </tr>\n",
       "    <tr>\n",
       "      <th>freq</th>\n",
       "      <td>14</td>\n",
       "    </tr>\n",
       "  </tbody>\n",
       "</table>\n",
       "</div>"
      ],
      "text/plain": [
       "       description\n",
       "count        42271\n",
       "unique       41632\n",
       "top            nan\n",
       "freq            14"
      ]
     },
     "execution_count": 27,
     "metadata": {},
     "output_type": "execute_result"
    }
   ],
   "source": [
    "books.describe()"
   ]
  },
  {
   "cell_type": "code",
   "execution_count": 29,
   "metadata": {},
   "outputs": [
    {
     "data": {
      "text/html": [
       "<div>\n",
       "<style scoped>\n",
       "    .dataframe tbody tr th:only-of-type {\n",
       "        vertical-align: middle;\n",
       "    }\n",
       "\n",
       "    .dataframe tbody tr th {\n",
       "        vertical-align: top;\n",
       "    }\n",
       "\n",
       "    .dataframe thead th {\n",
       "        text-align: right;\n",
       "    }\n",
       "</style>\n",
       "<table border=\"1\" class=\"dataframe\">\n",
       "  <thead>\n",
       "    <tr style=\"text-align: right;\">\n",
       "      <th></th>\n",
       "      <th>genre</th>\n",
       "    </tr>\n",
       "  </thead>\n",
       "  <tbody>\n",
       "    <tr>\n",
       "      <th>count</th>\n",
       "      <td>42271</td>\n",
       "    </tr>\n",
       "    <tr>\n",
       "      <th>unique</th>\n",
       "      <td>162</td>\n",
       "    </tr>\n",
       "    <tr>\n",
       "      <th>top</th>\n",
       "      <td>Fantasy</td>\n",
       "    </tr>\n",
       "    <tr>\n",
       "      <th>freq</th>\n",
       "      <td>6241</td>\n",
       "    </tr>\n",
       "  </tbody>\n",
       "</table>\n",
       "</div>"
      ],
      "text/plain": [
       "          genre\n",
       "count     42271\n",
       "unique      162\n",
       "top     Fantasy\n",
       "freq       6241"
      ]
     },
     "execution_count": 29,
     "metadata": {},
     "output_type": "execute_result"
    }
   ],
   "source": [
    "genres.describe()"
   ]
  },
  {
   "cell_type": "code",
   "execution_count": 30,
   "metadata": {},
   "outputs": [
    {
     "data": {
      "text/html": [
       "<div>\n",
       "<style scoped>\n",
       "    .dataframe tbody tr th:only-of-type {\n",
       "        vertical-align: middle;\n",
       "    }\n",
       "\n",
       "    .dataframe tbody tr th {\n",
       "        vertical-align: top;\n",
       "    }\n",
       "\n",
       "    .dataframe thead th {\n",
       "        text-align: right;\n",
       "    }\n",
       "</style>\n",
       "<table border=\"1\" class=\"dataframe\">\n",
       "  <thead>\n",
       "    <tr style=\"text-align: right;\">\n",
       "      <th></th>\n",
       "      <th>genre</th>\n",
       "    </tr>\n",
       "  </thead>\n",
       "  <tbody>\n",
       "    <tr>\n",
       "      <th>0</th>\n",
       "      <td>Fiction</td>\n",
       "    </tr>\n",
       "    <tr>\n",
       "      <th>1</th>\n",
       "      <td>Classics</td>\n",
       "    </tr>\n",
       "    <tr>\n",
       "      <th>2</th>\n",
       "      <td>Classics</td>\n",
       "    </tr>\n",
       "    <tr>\n",
       "      <th>3</th>\n",
       "      <td>Young Adult</td>\n",
       "    </tr>\n",
       "    <tr>\n",
       "      <th>4</th>\n",
       "      <td>Historical Fiction</td>\n",
       "    </tr>\n",
       "    <tr>\n",
       "      <th>...</th>\n",
       "      <td>...</td>\n",
       "    </tr>\n",
       "    <tr>\n",
       "      <th>42266</th>\n",
       "      <td>Nonfiction</td>\n",
       "    </tr>\n",
       "    <tr>\n",
       "      <th>42267</th>\n",
       "      <td>Fantasy</td>\n",
       "    </tr>\n",
       "    <tr>\n",
       "      <th>42268</th>\n",
       "      <td>European Literature</td>\n",
       "    </tr>\n",
       "    <tr>\n",
       "      <th>42269</th>\n",
       "      <td>Fiction</td>\n",
       "    </tr>\n",
       "    <tr>\n",
       "      <th>42270</th>\n",
       "      <td>Historical Fiction</td>\n",
       "    </tr>\n",
       "  </tbody>\n",
       "</table>\n",
       "<p>42271 rows × 1 columns</p>\n",
       "</div>"
      ],
      "text/plain": [
       "                     genre\n",
       "0                  Fiction\n",
       "1                 Classics\n",
       "2                 Classics\n",
       "3              Young Adult\n",
       "4       Historical Fiction\n",
       "...                    ...\n",
       "42266           Nonfiction\n",
       "42267              Fantasy\n",
       "42268  European Literature\n",
       "42269              Fiction\n",
       "42270   Historical Fiction\n",
       "\n",
       "[42271 rows x 1 columns]"
      ]
     },
     "execution_count": 30,
     "metadata": {},
     "output_type": "execute_result"
    }
   ],
   "source": [
    "type(genres)\n",
    "len(genres)\n",
    "genres"
   ]
  },
  {
   "cell_type": "code",
   "execution_count": 32,
   "metadata": {},
   "outputs": [
    {
     "name": "stdout",
     "output_type": "stream",
     "text": [
      "Total words in data set:  169\n"
     ]
    }
   ],
   "source": [
    "## Counting how many times a word appears in the dataset\n",
    "from collections import Counter\n",
    "\n",
    "total_counts_genre = Counter()\n",
    "for i in range(len(genres)):\n",
    "    for word in genres.values[i][0].split(\" \"):\n",
    "        total_counts_genre[word] += 1\n",
    "\n",
    "print(\"Total words in data set: \", len(total_counts_genre))"
   ]
  },
  {
   "cell_type": "code",
   "execution_count": 33,
   "metadata": {},
   "outputs": [
    {
     "name": "stdout",
     "output_type": "stream",
     "text": [
      "['Fantasy', 'Adult', 'Romance', 'Young', 'Nonfiction', 'Historical', 'Science', 'Mystery', 'Art', 'Classics', 'Sequential', 'Childrens', 'Horror', 'History', 'Poetry', 'Christian', 'Literature', 'Paranormal', 'Cultural', 'Religion', 'Thriller', 'Philosophy', 'Biography', 'New', 'Stories', 'Short', 'Novels', 'European', 'Womens', 'Humor', 'and', 'Plays', 'Sports', 'Autobiography', 'Media', 'Tie', 'In', 'Psychology', 'Erotica', 'Spirituality', 'Animals', 'Self', 'Help', 'Asian', 'Games', 'Business', 'Realistic', 'Politics', 'Dark', 'Travel', 'Contemporary', 'Glbt', 'Music', 'Adventure', 'Economics', 'War', 'Food', 'Drink', 'Crime', 'Holiday', 'Western', 'Language', 'Amish', 'Feminism', 'Parenting', 'Health', 'Audiobook', 'Education', 'Shapeshifters', 'Reference', 'Culture', 'Urban', 'Writing', 'Sociology', 'Academic', 'World', 'II', 'Drama', 'Suspense', 'Christianity', 'Mermaids', 'Computer', 'Anthropology', 'Lds', 'Leadership', 'Dungeons', 'Dragons', 'Anthologies', 'Roman', 'Occult', 'Inspirational', 'Marriage', 'Esoterica', 'Spy', 'Military', 'Environment', 'Design', 'Gothic', 'Apocalyptic', 'Fan', 'American', 'Love', 'Relationships', 'Law', 'Comics', 'Family', 'Category', 'Architecture', 'Mental', 'Gardening', 'Medical', 'Management', 'Alcohol', 'Humanities', 'Magical', 'Realism', 'Polyamory', 'Folklore', 'Social', 'Sexuality', 'Biology', 'Criticism', 'Book', 'Club', 'True', 'Story', 'Literary', 'Fairies', 'Tragedy', 'York', 'Witchcraft', 'Action', 'North', 'Hi...', 'Nurses', 'Manga', 'Dc', 'Diary', 'Space', 'Superheroes', 'Modern', 'Nature', 'Soccer', 'Heroic', 'Inspired', 'Crafts', 'Pop', 'Buddhism', 'Football', 'Of', 'Warcraft', 'Disability', 'Teaching', 'School', 'Menage', 'Emergency', 'Services', 'Gamebooks', 'Mythology', 'Fairy', 'Tales', 'Retellings', 'Issues', 'How', 'To', 'Race', 'Textbooks', 'Surreal']\n"
     ]
    }
   ],
   "source": [
    "vocab_genre = sorted(total_counts_genre, key=total_counts_genre.get, reverse=True)\n",
    "\n",
    "## Removimg '&' as first element\n",
    "vocab_genre = vocab_genre[1:]\n",
    "print (vocab_genre)"
   ]
  },
  {
   "cell_type": "code",
   "execution_count": 34,
   "metadata": {},
   "outputs": [
    {
     "name": "stdout",
     "output_type": "stream",
     "text": [
      "Surreal :  1\n"
     ]
    }
   ],
   "source": [
    "print(vocab_genre[-1], ': ', total_counts_genre[vocab_genre[-1]])"
   ]
  },
  {
   "cell_type": "code",
   "execution_count": 35,
   "metadata": {},
   "outputs": [],
   "source": [
    "vocab_size_genre = len(vocab_genre)\n",
    "word2idx_genre = {}\n",
    "#print vocab_size\n",
    "for i, word in enumerate(vocab_genre):\n",
    "    word2idx_genre[word] = i"
   ]
  },
  {
   "cell_type": "code",
   "execution_count": 36,
   "metadata": {},
   "outputs": [],
   "source": [
    "def text_to_vector_genre(text):\n",
    "    word_vector_genre = np.zeros(vocab_size_genre)\n",
    "    for word in text.split(\" \"):\n",
    "        if word2idx_genre.get(word) is None:\n",
    "            continue\n",
    "        else:\n",
    "            word_vector_genre[word2idx_genre.get(word)] += 1\n",
    "    return np.array(word_vector_genre)"
   ]
  },
  {
   "cell_type": "code",
   "execution_count": 38,
   "metadata": {},
   "outputs": [],
   "source": [
    "word_vectors_genre = np.zeros((len(genres), len(vocab_genre)), dtype=np.int_)\n",
    "for ii, (_, text) in enumerate(genres.iterrows()):\n",
    "    word_vectors_genre[ii] = text_to_vector_genre(text[0])"
   ]
  },
  {
   "cell_type": "code",
   "execution_count": 39,
   "metadata": {},
   "outputs": [
    {
     "data": {
      "text/plain": [
       "array([0, 0, 0, 0, 0, 0, 0, 0, 0, 1, 0, 0, 0, 0, 0, 0, 0, 0, 0, 0, 0, 0,\n",
       "       0, 0, 0, 0, 0, 0, 0, 0, 0, 0, 0, 0, 0, 0, 0, 0, 0, 0, 0, 0, 0, 0,\n",
       "       0, 0, 0, 0, 0, 0, 0, 0, 0, 0, 0, 0, 0, 0, 0, 0, 0, 0, 0, 0, 0, 0,\n",
       "       0, 0, 0, 0, 0, 0, 0, 0, 0, 0, 0, 0, 0, 0, 0, 0, 0, 0, 0, 0, 0, 0,\n",
       "       0, 0, 0, 0, 0, 0, 0, 0, 0, 0, 0, 0, 0, 0, 0, 0, 0, 0, 0, 0, 0, 0,\n",
       "       0, 0, 0, 0, 0, 0, 0, 0, 0, 0, 0, 0, 0, 0, 0, 0, 0, 0, 0, 0, 0, 0,\n",
       "       0, 0, 0, 0, 0, 0, 0, 0, 0, 0, 0, 0, 0, 0, 0, 0, 0, 0, 0, 0, 0, 0,\n",
       "       0, 0, 0, 0, 0, 0, 0, 0, 0, 0, 0, 0, 0, 0])"
      ]
     },
     "execution_count": 39,
     "metadata": {},
     "output_type": "execute_result"
    }
   ],
   "source": [
    "word_vectors_genre.shape\n",
    "word_vectors_genre[1]"
   ]
  },
  {
   "cell_type": "code",
   "execution_count": 42,
   "metadata": {},
   "outputs": [
    {
     "name": "stdout",
     "output_type": "stream",
     "text": [
      "(42271, 20000)\n"
     ]
    },
    {
     "data": {
      "text/plain": [
       "['Fantasy',\n",
       " 'Adult',\n",
       " 'Romance',\n",
       " 'Young',\n",
       " 'Nonfiction',\n",
       " 'Historical',\n",
       " 'Science',\n",
       " 'Mystery',\n",
       " 'Art',\n",
       " 'Classics',\n",
       " 'Sequential',\n",
       " 'Childrens',\n",
       " 'Horror',\n",
       " 'History',\n",
       " 'Poetry',\n",
       " 'Christian',\n",
       " 'Literature',\n",
       " 'Paranormal',\n",
       " 'Cultural',\n",
       " 'Religion',\n",
       " 'Thriller',\n",
       " 'Philosophy',\n",
       " 'Biography',\n",
       " 'New',\n",
       " 'Stories',\n",
       " 'Short',\n",
       " 'Novels',\n",
       " 'European',\n",
       " 'Womens',\n",
       " 'Humor',\n",
       " 'and',\n",
       " 'Plays',\n",
       " 'Sports',\n",
       " 'Autobiography',\n",
       " 'Media',\n",
       " 'Tie',\n",
       " 'In',\n",
       " 'Psychology',\n",
       " 'Erotica',\n",
       " 'Spirituality',\n",
       " 'Animals',\n",
       " 'Self',\n",
       " 'Help',\n",
       " 'Asian',\n",
       " 'Games',\n",
       " 'Business',\n",
       " 'Realistic',\n",
       " 'Politics',\n",
       " 'Dark',\n",
       " 'Travel',\n",
       " 'Contemporary',\n",
       " 'Glbt',\n",
       " 'Music',\n",
       " 'Adventure',\n",
       " 'Economics',\n",
       " 'War',\n",
       " 'Food',\n",
       " 'Drink',\n",
       " 'Crime',\n",
       " 'Holiday',\n",
       " 'Western',\n",
       " 'Language',\n",
       " 'Amish',\n",
       " 'Feminism',\n",
       " 'Parenting',\n",
       " 'Health',\n",
       " 'Audiobook',\n",
       " 'Education',\n",
       " 'Shapeshifters',\n",
       " 'Reference',\n",
       " 'Culture',\n",
       " 'Urban',\n",
       " 'Writing',\n",
       " 'Sociology',\n",
       " 'Academic',\n",
       " 'World',\n",
       " 'II',\n",
       " 'Drama',\n",
       " 'Suspense',\n",
       " 'Christianity',\n",
       " 'Mermaids',\n",
       " 'Computer',\n",
       " 'Anthropology',\n",
       " 'Lds',\n",
       " 'Leadership',\n",
       " 'Dungeons',\n",
       " 'Dragons',\n",
       " 'Anthologies',\n",
       " 'Roman',\n",
       " 'Occult',\n",
       " 'Inspirational',\n",
       " 'Marriage',\n",
       " 'Esoterica',\n",
       " 'Spy',\n",
       " 'Military',\n",
       " 'Environment',\n",
       " 'Design',\n",
       " 'Gothic',\n",
       " 'Apocalyptic',\n",
       " 'Fan',\n",
       " 'American',\n",
       " 'Love',\n",
       " 'Relationships',\n",
       " 'Law',\n",
       " 'Comics',\n",
       " 'Family',\n",
       " 'Category',\n",
       " 'Architecture',\n",
       " 'Mental',\n",
       " 'Gardening',\n",
       " 'Medical',\n",
       " 'Management',\n",
       " 'Alcohol',\n",
       " 'Humanities',\n",
       " 'Magical',\n",
       " 'Realism',\n",
       " 'Polyamory',\n",
       " 'Folklore',\n",
       " 'Social',\n",
       " 'Sexuality',\n",
       " 'Biology',\n",
       " 'Criticism',\n",
       " 'Book',\n",
       " 'Club',\n",
       " 'True',\n",
       " 'Story',\n",
       " 'Literary',\n",
       " 'Fairies',\n",
       " 'Tragedy',\n",
       " 'York',\n",
       " 'Witchcraft',\n",
       " 'Action',\n",
       " 'North',\n",
       " 'Hi...',\n",
       " 'Nurses',\n",
       " 'Manga',\n",
       " 'Dc',\n",
       " 'Diary',\n",
       " 'Space',\n",
       " 'Superheroes',\n",
       " 'Modern',\n",
       " 'Nature',\n",
       " 'Soccer',\n",
       " 'Heroic',\n",
       " 'Inspired',\n",
       " 'Crafts',\n",
       " 'Pop',\n",
       " 'Buddhism',\n",
       " 'Football',\n",
       " 'Of',\n",
       " 'Warcraft',\n",
       " 'Disability',\n",
       " 'Teaching',\n",
       " 'School',\n",
       " 'Menage',\n",
       " 'Emergency',\n",
       " 'Services',\n",
       " 'Gamebooks',\n",
       " 'Mythology',\n",
       " 'Fairy',\n",
       " 'Tales',\n",
       " 'Retellings',\n",
       " 'Issues',\n",
       " 'How',\n",
       " 'To',\n",
       " 'Race',\n",
       " 'Textbooks',\n",
       " 'Surreal']"
      ]
     },
     "execution_count": 42,
     "metadata": {},
     "output_type": "execute_result"
    }
   ],
   "source": [
    "print (word_vectors.shape)\n",
    "word_vectors_genre[1]\n",
    "list(word2idx_genre)\n",
    "# len(word2idx_genre)"
   ]
  },
  {
   "cell_type": "code",
   "execution_count": 43,
   "metadata": {},
   "outputs": [],
   "source": [
    "from sklearn.model_selection import train_test_split\n",
    "X_train, X_test, y_train, y_test = train_test_split(word_vectors, word_vectors_genre, test_size=0.25, random_state=42)"
   ]
  },
  {
   "cell_type": "code",
   "execution_count": 44,
   "metadata": {},
   "outputs": [
    {
     "name": "stdout",
     "output_type": "stream",
     "text": [
      "(31703, 20000)\n",
      "(31703, 168)\n",
      "(10568, 20000)\n",
      "(10568, 168)\n"
     ]
    }
   ],
   "source": [
    "\n",
    "print (X_train.shape)\n",
    "print (y_train.shape)\n",
    "print (X_test.shape)\n",
    "print (y_test.shape)"
   ]
  },
  {
   "cell_type": "code",
   "execution_count": 45,
   "metadata": {},
   "outputs": [],
   "source": [
    "def build_model():\n",
    "    tf.reset_default_graph()\n",
    "    \n",
    "    # Input\n",
    "    net = tflearn.input_data([None, 20000])\n",
    "    \n",
    "    #Hidden\n",
    "    net = tflearn.fully_connected(net, 128, activation='ReLU')\n",
    "    net = tflearn.fully_connected(net, 128, activation='ReLU')\n",
    "    net = tflearn.fully_connected(net, 128, activation='ReLU')\n",
    "    net = tflearn.fully_connected(net, 256, activation='ReLU')\n",
    "\n",
    "    ## Dropout\n",
    "    net = tflearn.layers.core.dropout (net, 0.5, noise_shape=None, name='Dropout')\n",
    "\n",
    "    #Output\n",
    "    net = tflearn.fully_connected(net, 62, activation='softmax') \n",
    "    net = tflearn.regression(net, optimizer='adam', learning_rate=0.003, loss='categorical_crossentropy')\n",
    "    \n",
    "    \n",
    "    model = tflearn.DNN(net)\n",
    "    return model"
   ]
  },
  {
   "cell_type": "code",
   "execution_count": 46,
   "metadata": {},
   "outputs": [
    {
     "ename": "NameError",
     "evalue": "name 'tflearn' is not defined",
     "output_type": "error",
     "traceback": [
      "\u001b[0;31m---------------------------------------------------------------------------\u001b[0m",
      "\u001b[0;31mNameError\u001b[0m                                 Traceback (most recent call last)",
      "\u001b[0;32m<ipython-input-46-671884cecb64>\u001b[0m in \u001b[0;36m<module>\u001b[0;34m\u001b[0m\n\u001b[0;32m----> 1\u001b[0;31m \u001b[0mmodel\u001b[0m \u001b[0;34m=\u001b[0m \u001b[0mbuild_model\u001b[0m\u001b[0;34m(\u001b[0m\u001b[0;34m)\u001b[0m\u001b[0;34m\u001b[0m\u001b[0;34m\u001b[0m\u001b[0m\n\u001b[0m",
      "\u001b[0;32m<ipython-input-45-a3819b84f52d>\u001b[0m in \u001b[0;36mbuild_model\u001b[0;34m()\u001b[0m\n\u001b[1;32m      3\u001b[0m \u001b[0;34m\u001b[0m\u001b[0m\n\u001b[1;32m      4\u001b[0m     \u001b[0;31m# Input\u001b[0m\u001b[0;34m\u001b[0m\u001b[0;34m\u001b[0m\u001b[0;34m\u001b[0m\u001b[0m\n\u001b[0;32m----> 5\u001b[0;31m     \u001b[0mnet\u001b[0m \u001b[0;34m=\u001b[0m \u001b[0mtflearn\u001b[0m\u001b[0;34m.\u001b[0m\u001b[0minput_data\u001b[0m\u001b[0;34m(\u001b[0m\u001b[0;34m[\u001b[0m\u001b[0;32mNone\u001b[0m\u001b[0;34m,\u001b[0m \u001b[0;36m20000\u001b[0m\u001b[0;34m]\u001b[0m\u001b[0;34m)\u001b[0m\u001b[0;34m\u001b[0m\u001b[0;34m\u001b[0m\u001b[0m\n\u001b[0m\u001b[1;32m      6\u001b[0m \u001b[0;34m\u001b[0m\u001b[0m\n\u001b[1;32m      7\u001b[0m     \u001b[0;31m#Hidden\u001b[0m\u001b[0;34m\u001b[0m\u001b[0;34m\u001b[0m\u001b[0;34m\u001b[0m\u001b[0m\n",
      "\u001b[0;31mNameError\u001b[0m: name 'tflearn' is not defined"
     ]
    }
   ],
   "source": [
    "model = build_model()"
   ]
  },
  {
   "cell_type": "code",
   "execution_count": 47,
   "metadata": {},
   "outputs": [],
   "source": [
    "import tensorflow as tf"
   ]
  },
  {
   "cell_type": "code",
   "execution_count": 1,
   "metadata": {},
   "outputs": [
    {
     "ename": "ModuleNotFoundError",
     "evalue": "No module named 'tflearn'",
     "output_type": "error",
     "traceback": [
      "\u001b[0;31m---------------------------------------------------------------------------\u001b[0m",
      "\u001b[0;31mModuleNotFoundError\u001b[0m                       Traceback (most recent call last)",
      "\u001b[0;32m<ipython-input-1-9d7ed441cee1>\u001b[0m in \u001b[0;36m<module>\u001b[0;34m\u001b[0m\n\u001b[0;32m----> 1\u001b[0;31m \u001b[0;32mimport\u001b[0m \u001b[0mtflearn\u001b[0m\u001b[0;34m\u001b[0m\u001b[0;34m\u001b[0m\u001b[0m\n\u001b[0m",
      "\u001b[0;31mModuleNotFoundError\u001b[0m: No module named 'tflearn'"
     ]
    }
   ],
   "source": [
    "import tflearn\n"
   ]
  },
  {
   "cell_type": "code",
   "execution_count": null,
   "metadata": {},
   "outputs": [],
   "source": []
  }
 ],
 "metadata": {
  "kernelspec": {
   "display_name": "Python 3",
   "language": "python",
   "name": "python3"
  },
  "language_info": {
   "codemirror_mode": {
    "name": "ipython",
    "version": 3
   },
   "file_extension": ".py",
   "mimetype": "text/x-python",
   "name": "python",
   "nbconvert_exporter": "python",
   "pygments_lexer": "ipython3",
   "version": "3.7.5"
  }
 },
 "nbformat": 4,
 "nbformat_minor": 2
}
